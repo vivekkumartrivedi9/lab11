{
  "nbformat": 4,
  "nbformat_minor": 0,
  "metadata": {
    "colab": {
      "provenance": [],
      "collapsed_sections": []
    },
    "kernelspec": {
      "name": "python3",
      "display_name": "Python 3"
    },
    "language_info": {
      "name": "python"
    }
  },
  "cells": [
    {
      "cell_type": "markdown",
      "source": [
        "# Simulation using Python, Lab 2, Part A: Monte Carlo Integration"
      ],
      "metadata": {
        "id": "jCYxZA0Ksgwt"
      }
    },
    {
      "cell_type": "code",
      "metadata": {
        "id": "9mEq66v4PziL"
      },
      "source": [
        "import math\n",
        "import numpy as np\n",
        "import random \n",
        "import matplotlib.pyplot as plt\n",
        "from scipy import stats"
      ],
      "execution_count": null,
      "outputs": []
    },
    {
      "cell_type": "markdown",
      "source": [
        "**Example**\n",
        "Compute $\\int_0^\\pi sin(x) dx$ using MCS"
      ],
      "metadata": {
        "id": "GrYHWMdgstZG"
      }
    },
    {
      "cell_type": "code",
      "metadata": {
        "id": "xuQDD_oiQDC0"
      },
      "source": [
        "#Let's define the integral\n",
        "def integral1(x):\n",
        "  return (math.sin(x))"
      ],
      "execution_count": null,
      "outputs": []
    },
    {
      "cell_type": "markdown",
      "metadata": {
        "id": "cnTVEuMvRZEf"
      },
      "source": [
        "Solve above example for N = 10, 100, 1000, 10000 and observe the results!"
      ]
    },
    {
      "cell_type": "code",
      "metadata": {
        "id": "bS6qfA6jQLQL",
        "colab": {
          "base_uri": "https://localhost:8080/"
        },
        "outputId": "ddd984dd-fb05-4a52-c049-f597db875d28"
      },
      "source": [
        "N = 10**4 ## number of random points\n",
        "v=[10,100,1000,10000]\n",
        "for j in v:\n",
        "  lb = 0.0  #lower bound\n",
        "  ub = math.pi\t#upper bound\n",
        "\n",
        "  eval_data = [] \t#Defining eval_data as a list data type\n",
        "\n",
        "  for i in range(N):\n",
        "    v = random.uniform(lb, ub)\n",
        "    eval_data.append(integral1(v))\n",
        "\n",
        "  val = (ub-lb)*np.mean(eval_data)\n",
        "\n",
        "  print('Integral Estimate if N=',j,'  : ', val)"
      ],
      "execution_count": null,
      "outputs": [
        {
          "output_type": "stream",
          "name": "stdout",
          "text": [
            "Integral Estimate if N= 10   :  2.012316962399818\n",
            "Integral Estimate if N= 100   :  1.9902484529713984\n",
            "Integral Estimate if N= 1000   :  2.022785497998896\n",
            "Integral Estimate if N= 10000   :  2.0168261358718036\n"
          ]
        }
      ]
    },
    {
      "cell_type": "markdown",
      "source": [
        "Integral Estimate if N= 10   :  2.006486836990008\n",
        "\n",
        "Integral Estimate if N= 100   :  1.9754021108222473\n",
        "\n",
        "Integral Estimate if N= 1000   :  2.012866381558127\n",
        "\n",
        "Integral Estimate if N= 10000   :  1.9925289576982554\n",
        "\n",
        "as we increase N we get more data point that increase accuracy of integral as we can see from above it's completely depend on how much data point is nearer to our known solution if we take less sample then also possibility of getting known result if random data point is nearer to our known solution but chance is less compare to when we take large no of data point"
      ],
      "metadata": {
        "id": "gUYLnIlIvitP"
      }
    },
    {
      "cell_type": "markdown",
      "source": [
        "### Building Confidence Interval\n",
        "Let's run the model M=10 times, each with N=100 data points. Use the M data points to build the 95% CI of the mean estimate of the integral"
      ],
      "metadata": {
        "id": "lJEkQ7is-E2R"
      }
    },
    {
      "cell_type": "code",
      "metadata": {
        "id": "Rq3-TrrOSxcj",
        "colab": {
          "base_uri": "https://localhost:8080/"
        },
        "outputId": "0bcdedc1-dcc2-4f3c-ea0a-e686ced62205"
      },
      "source": [
        " #Number of batches or sample sets. as M\n",
        "N = 100 ## number of random points per batch\n",
        "M=10\n",
        "lb = 0.0  #lower bound\n",
        "ub = math.pi\t#upper bound\n",
        "\n",
        "val=[]\n",
        "for j in range(M): #Outer-loop for sample sets\n",
        "    eval_data = []\n",
        "\n",
        "    for i in range(N): #Inner-loop for function evaluation\n",
        "      v = random.uniform(lb, ub)\n",
        "      eval_data.append(integral1(v))\n",
        "    \n",
        "    val.append((ub-lb)*np.mean(eval_data))\n",
        "\n",
        "total_mean = np.mean(val)  #mean\n",
        "print(\"Integral Mean =\",total_mean)\n",
        "sd = np.std(val)\t#standard deviation\n",
        "print('Standard deviation = ',sd)\n",
        "\n",
        "alpha=0.05 #since we want to construct 95% CI\n",
        "dof = M -1\t# Degrees of freedom\n",
        "t_value = stats.t.ppf((1-alpha/2),dof)\n",
        "print(\"t-value from student t-dist with dof \", M-1, \" and alpha \", alpha, \" is \", t_value)\n",
        "t_hw = t_value*sd/math.sqrt(M)\t\t#Halfwidth\n",
        "print(\"Halfwidth = \",t_hw)\n",
        "print(\"95% CI of Integral is [\", total_mean - t_hw, \", \", total_mean + t_hw, \"]\" )"
      ],
      "execution_count": null,
      "outputs": [
        {
          "output_type": "stream",
          "name": "stdout",
          "text": [
            "Integral Mean = 1.978203325891549\n",
            "Standard deviation =  0.05484454935888371\n",
            "t-value from student t-dist with dof  9  and alpha  0.05  is  2.2621571627409915\n",
            "Halfwidth =  0.03923342713773418\n",
            "95% CI of Integral is [ 1.9389698987538149 ,  2.0174367530292834 ]\n"
          ]
        }
      ]
    },
    {
      "cell_type": "markdown",
      "source": [
        "Integral Mean = 1.978203325891549\n",
        "\n",
        "Standard deviation =  0.05484454935888371\n",
        "\n",
        "t-value from student t-dist with dof  9  and alpha  0.05  is  2.2621571627409915\n",
        "\n",
        "Halfwidth =  0.03923342713773418\n",
        "\n",
        "95% CI of Integral is [ 1.9389698987538149 ,  2.0174367530292834 ]"
      ],
      "metadata": {
        "id": "E_hsr8zkzRHR"
      }
    },
    {
      "cell_type": "code",
      "source": [
        " #Number of batches or sample sets. as M\n",
        "N = 100 ## number of random points per batch\n",
        "lb = 0.0  #lower bound\n",
        "ub = math.pi\t#upper bound\n",
        "for M in [10,100,1000,10000]:\n",
        "  val=[]\n",
        "  for j in range(M): #Outer-loop for sample sets\n",
        "    eval_data = []\n",
        "\n",
        "    for i in range(N): #Inner-loop for function evaluation\n",
        "      v = random.uniform(lb, ub)\n",
        "      eval_data.append(integral1(v))\n",
        "    \n",
        "    val.append((ub-lb)*np.mean(eval_data))\n",
        "  print('\\n \\n \\n when M=',M)\n",
        "  total_mean = np.mean(val)  #mean\n",
        "  print(\"Integral Mean =\",total_mean)\n",
        "  sd = np.std(val)\t#standard deviation\n",
        "  print('Standard deviation = ',sd)\n",
        "\n",
        "  alpha=0.05 #since we want to construct 95% CI\n",
        "  dof = M -1\t# Degrees of freedom\n",
        "  t_value = stats.t.ppf((1-alpha/2),dof)\n",
        "  print(\"t-value from student t-dist with dof \", M-1, \" and alpha \", alpha, \" is \", t_value)\n",
        "  t_hw = t_value*sd/math.sqrt(M)\t\t#Halfwidth\n",
        "  print(\"Halfwidth = \",t_hw)\n",
        "  print(\"95% CI of Integral is [\", total_mean - t_hw, \", \", total_mean + t_hw, \"]\" )"
      ],
      "metadata": {
        "id": "POfPAzyX_smb",
        "colab": {
          "base_uri": "https://localhost:8080/"
        },
        "outputId": "31875559-695a-4cd8-a997-ee0670754bb1"
      },
      "execution_count": null,
      "outputs": [
        {
          "output_type": "stream",
          "name": "stdout",
          "text": [
            "\n",
            " \n",
            " \n",
            " when M= 10\n",
            "Integral Mean = 1.986086888831189\n",
            "Standard deviation =  0.09753653121397261\n",
            "t-value from student t-dist with dof  9  and alpha  0.05  is  2.2621571627409915\n",
            "Halfwidth =  0.06977343118657392\n",
            "95% CI of Integral is [ 1.916313457644615 ,  2.055860320017763 ]\n",
            "\n",
            " \n",
            " \n",
            " when M= 100\n",
            "Integral Mean = 1.9744462561079825\n",
            "Standard deviation =  0.0999513396612537\n",
            "t-value from student t-dist with dof  99  and alpha  0.05  is  1.9842169515086827\n",
            "Halfwidth =  0.019832514248186172\n",
            "95% CI of Integral is [ 1.9546137418597964 ,  1.9942787703561686 ]\n",
            "\n",
            " \n",
            " \n",
            " when M= 1000\n",
            "Integral Mean = 1.9923211118935464\n",
            "Standard deviation =  0.09514434992762986\n",
            "t-value from student t-dist with dof  999  and alpha  0.05  is  1.9623414611334487\n",
            "Halfwidth =  0.005904152725337722\n",
            "95% CI of Integral is [ 1.9864169591682088 ,  1.998225264618884 ]\n",
            "\n",
            " \n",
            " \n",
            " when M= 10000\n",
            "Integral Mean = 2.000192778931527\n",
            "Standard deviation =  0.09727160241709652\n",
            "t-value from student t-dist with dof  9999  and alpha  0.05  is  1.9602012636213575\n",
            "Halfwidth =  0.001906719179724669\n",
            "95% CI of Integral is [ 1.9982860597518024 ,  2.0020994981112517 ]\n"
          ]
        }
      ]
    },
    {
      "cell_type": "markdown",
      "source": [
        "#To Do"
      ],
      "metadata": {
        "id": "FI7wctp3CX9U"
      }
    },
    {
      "cell_type": "markdown",
      "source": [
        "1. Estimate $I = \\int_0^{9/10} \\int_0^1 \\int_0^{11/10} (4-x^2-y^2-z^2)dz dy dx$ using MCS.  Bound the expected value with a 95% CI"
      ],
      "metadata": {
        "id": "rCKQ-wVJChkx"
      }
    },
    {
      "cell_type": "code",
      "source": [
        "def integral3(x,y,z):\n",
        "  return 4-x**2-y**2-z**2"
      ],
      "metadata": {
        "id": "nJ7oBKk6CZro"
      },
      "execution_count": null,
      "outputs": []
    },
    {
      "cell_type": "code",
      "source": [
        "for M in [10,100,1000,10000]:\n",
        "  val=[]\n",
        "  for i in range(M):\n",
        "    eval_data1=[]\n",
        "    for j in range(100):\n",
        "      x=random.uniform(0,9/10)\n",
        "      y=random.uniform(0,1)\n",
        "      z=random.uniform(0,11/10)\n",
        "      eval_data1.append(integral3(x,y,z))\n",
        "    val.append((9/10)*(11/10)*np.mean(eval_data1))\n",
        "  print(\"\\n \\n when M=\",M)  \n",
        "  print(\"\\n integral mean=\",np.mean(val))\n",
        "  print(\"\\n standard deviation=\",np.std(val))\n",
        "  alpha=0.05 #since we want to construct 95% CI\n",
        "  dof = M -1\t# Degrees of freedom\n",
        "  t_value = stats.t.ppf((1-alpha/2),dof)\n",
        "  print(\"\\n t-value from student t-dist with dof \", M-1, \" and alpha \", alpha, \" is \", t_value)\n",
        "  t_hw = t_value*np.std(val)/math.sqrt(M)\t\t#Halfwidth\n",
        "  print(\"\\n Halfwidth = \",t_hw)\n",
        "  print(\"\\n 95% CI of Integral is [\", np.mean(val) - t_hw, \", \",np.mean(val) + t_hw, \"]\" )\n"
      ],
      "metadata": {
        "colab": {
          "base_uri": "https://localhost:8080/"
        },
        "id": "GNdo2TLfz7FY",
        "outputId": "270754f7-1ac0-4439-b124-2e7dba5a31f1"
      },
      "execution_count": null,
      "outputs": [
        {
          "output_type": "stream",
          "name": "stdout",
          "text": [
            "\n",
            " \n",
            " when M= 10\n",
            "\n",
            " integral mean= 2.9608496897350784\n",
            "\n",
            " standard deviation= 0.03967426342449903\n",
            "\n",
            " t-value from student t-dist with dof  9  and alpha  0.05  is  2.2621571627409915\n",
            "\n",
            " Halfwidth =  0.028381258329296926\n",
            "\n",
            " 95% CI of Integral is [ 2.9324684314057814 ,  2.9892309480643755 ]\n",
            "\n",
            " \n",
            " when M= 100\n",
            "\n",
            " integral mean= 2.959822924297788\n",
            "\n",
            " standard deviation= 0.04893274321639435\n",
            "\n",
            " t-value from student t-dist with dof  99  and alpha  0.05  is  1.9842169515086827\n",
            "\n",
            " Halfwidth =  0.009709317857379118\n",
            "\n",
            " 95% CI of Integral is [ 2.950113606440409 ,  2.969532242155167 ]\n",
            "\n",
            " \n",
            " when M= 1000\n",
            "\n",
            " integral mean= 2.962427845755261\n",
            "\n",
            " standard deviation= 0.05068822303445218\n",
            "\n",
            " t-value from student t-dist with dof  999  and alpha  0.05  is  1.9623414611334487\n",
            "\n",
            " Halfwidth =  0.0031454417461365095\n",
            "\n",
            " 95% CI of Integral is [ 2.9592824040091243 ,  2.9655732875013974 ]\n",
            "\n",
            " \n",
            " when M= 10000\n",
            "\n",
            " integral mean= 2.964405450115872\n",
            "\n",
            " standard deviation= 0.052160250268186534\n",
            "\n",
            " t-value from student t-dist with dof  9999  and alpha  0.05  is  1.9602012636213575\n",
            "\n",
            " Halfwidth =  0.001022445884865055\n",
            "\n",
            " 95% CI of Integral is [ 2.963383004231007 ,  2.9654278960007368 ]\n"
          ]
        }
      ]
    },
    {
      "cell_type": "markdown",
      "source": [
        "\n",
        " \n",
        " when M= 10\n",
        "\n",
        " integral mean= 2.9608496897350784\n",
        "\n",
        " standard deviation= 0.03967426342449903\n",
        "\n",
        " t-value from student t-dist with dof  9  and alpha  0.05  is  2.2621571627409915\n",
        "\n",
        " Halfwidth =  0.028381258329296926\n",
        "\n",
        " 95% CI of Integral is [ 2.9324684314057814 ,  2.9892309480643755 ]\n",
        "\n",
        " \n",
        " when M= 100\n",
        "\n",
        " integral mean= 2.959822924297788\n",
        "\n",
        " standard deviation= 0.04893274321639435\n",
        "\n",
        " t-value from student t-dist with dof  99  and alpha  0.05  is  1.9842169515086827\n",
        "\n",
        " Halfwidth =  0.009709317857379118\n",
        "\n",
        " 95% CI of Integral is [ 2.950113606440409 ,  2.969532242155167 ]\n",
        "\n",
        " \n",
        " when M= 1000\n",
        "\n",
        " integral mean= 2.962427845755261\n",
        "\n",
        " standard deviation= 0.05068822303445218\n",
        "\n",
        " t-value from student t-dist with dof  999  and alpha  0.05  is  1.9623414611334487\n",
        "\n",
        " Halfwidth =  0.0031454417461365095\n",
        "\n",
        " 95% CI of Integral is [ 2.9592824040091243 ,  2.9655732875013974 ]\n",
        "\n",
        " \n",
        " when M= 10000\n",
        "\n",
        " integral mean= 2.964405450115872\n",
        "\n",
        " standard deviation= 0.052160250268186534\n",
        "\n",
        " t-value from student t-dist with dof  9999  and alpha  0.05  is  1.9602012636213575\n",
        "\n",
        " Halfwidth =  0.001022445884865055\n",
        "\n",
        " 95% CI of Integral is [ 2.963383004231007 ,  2.9654278960007368 ]"
      ],
      "metadata": {
        "id": "5z4uI0vwzroU"
      }
    },
    {
      "cell_type": "markdown",
      "source": [
        "2. Estimate $I = \\int_0^\\inf x^{\\alpha -1} e^{-x} dx$, with $\\alpha$ = 1.9 using MCS.  Option 1: Try with $x$ ~ Expo(1).  Option 2: Try with $x$ ~ Erlang(k=2, $\\beta$=1). Compare the results across options for same value of N=100 and N=1000 "
      ],
      "metadata": {
        "id": "p7SoVrYGC3Xx"
      }
    },
    {
      "cell_type": "code",
      "source": [
        "def integral4(x):\n",
        "  return (x**0.9)*math.exp(-x)"
      ],
      "metadata": {
        "id": "HELt_ore33zT"
      },
      "execution_count": null,
      "outputs": []
    },
    {
      "cell_type": "code",
      "source": [
        "N=100\n",
        "for M in [10,100,1000,10000]:\n",
        "  val=[]\n",
        "  for i in range(M):\n",
        "    eval_data1=[]\n",
        "    for j in range(N):\n",
        "      x=np.random.exponential(1)\n",
        "      eval_data1.append((1/(math.exp(-x)))*integral4(x))\n",
        "    val.append(np.mean(eval_data1))\n",
        "  print(\"\\n \\n when M=\",M)  \n",
        "  print(\"\\n integral mean=\",np.mean(val))\n",
        "  print(\"\\n standard deviation=\",np.std(val))\n",
        "  alpha=0.05 #since we want to construct 95% CI\n",
        "  dof = M -1\t# Degrees of freedom\n",
        "  t_value = stats.t.ppf((1-alpha/2),dof)\n",
        "  print(\"\\n t-value from student t-dist with dof \", M-1, \" and alpha \", alpha, \" is \", t_value)\n",
        "  t_hw = t_value*np.std(val)/math.sqrt(M)\t\t#Halfwidth\n",
        "  print(\"\\n Halfwidth = \",t_hw)\n",
        "  print(\"\\n 95% CI of Integral is [\", np.mean(val) - t_hw, \", \",np.mean(val) + t_hw, \"]\" )\n"
      ],
      "metadata": {
        "colab": {
          "base_uri": "https://localhost:8080/"
        },
        "id": "6FHYWCGP9fOW",
        "outputId": "f88e91f7-7de1-449f-f992-55b4438c26c9"
      },
      "execution_count": null,
      "outputs": [
        {
          "output_type": "stream",
          "name": "stdout",
          "text": [
            "\n",
            " \n",
            " when M= 10\n",
            "\n",
            " integral mean= 0.9444169656181798\n",
            "\n",
            " standard deviation= 0.08628718923602709\n",
            "\n",
            " t-value from student t-dist with dof  9  and alpha  0.05  is  2.2621571627409915\n",
            "\n",
            " Halfwidth =  0.061726136715228426\n",
            "\n",
            " 95% CI of Integral is [ 0.8826908289029514 ,  1.0061431023334082 ]\n",
            "\n",
            " \n",
            " when M= 100\n",
            "\n",
            " integral mean= 0.9686875415002841\n",
            "\n",
            " standard deviation= 0.08555941898578358\n",
            "\n",
            " t-value from student t-dist with dof  99  and alpha  0.05  is  1.9842169515086827\n",
            "\n",
            " Halfwidth =  0.01697684495128256\n",
            "\n",
            " 95% CI of Integral is [ 0.9517106965490015 ,  0.9856643864515667 ]\n",
            "\n",
            " \n",
            " when M= 1000\n",
            "\n",
            " integral mean= 0.9664116220590375\n",
            "\n",
            " standard deviation= 0.0873632525273834\n",
            "\n",
            " t-value from student t-dist with dof  999  and alpha  0.05  is  1.9623414611334487\n",
            "\n",
            " Halfwidth =  0.005421299172218408\n",
            "\n",
            " 95% CI of Integral is [ 0.9609903228868191 ,  0.971832921231256 ]\n",
            "\n",
            " \n",
            " when M= 10000\n",
            "\n",
            " integral mean= 0.9607695835908003\n",
            "\n",
            " standard deviation= 0.08613555308938417\n",
            "\n",
            " t-value from student t-dist with dof  9999  and alpha  0.05  is  1.9602012636213575\n",
            "\n",
            " Halfwidth =  0.0016884302000853538\n",
            "\n",
            " 95% CI of Integral is [ 0.959081153390715 ,  0.9624580137908857 ]\n"
          ]
        }
      ]
    },
    {
      "cell_type": "markdown",
      "source": [
        "when N=100\n",
        " \n",
        " when M= 10\n",
        "\n",
        " integral mean= 1.0094300074022597\n",
        "\n",
        " standard deviation= 0.09806207825970148\n",
        "\n",
        " t-value from student t-dist with dof  9  and alpha  0.05  is  2.2621571627409915\n",
        "\n",
        " Halfwidth =  0.07014938489513904\n",
        "\n",
        " 95% CI of Integral is [ 0.9392806225071207 ,  1.0795793922973989 ]\n",
        "\n",
        " \n",
        " when M= 100\n",
        "\n",
        " integral mean= 0.9584145927411224\n",
        "\n",
        " standard deviation= 0.09118465394288212\n",
        "\n",
        " t-value from student t-dist with dof  99  and alpha  0.05  is  1.9842169515086827\n",
        "\n",
        " Halfwidth =  0.018093013607091975\n",
        "\n",
        " 95% CI of Integral is [ 0.9403215791340305 ,  0.9765076063482143 ]\n",
        "\n",
        " \n",
        " when M= 1000\n",
        "\n",
        " integral mean= 0.9596549698881534\n",
        "\n",
        " standard deviation= 0.08304374758739078\n",
        "\n",
        " t-value from student t-dist with dof  999  and alpha  0.05  is  1.9623414611334487\n",
        "\n",
        " Halfwidth =  0.005153253651039634\n",
        "\n",
        " 95% CI of Integral is [ 0.9545017162371138 ,  0.9648082235391929 ]\n",
        "\n",
        " \n",
        " when M= 10000\n",
        "\n",
        " integral mean= 0.9628577341316904\n",
        "\n",
        " standard deviation= 0.08631572901159436\n",
        "\n",
        " t-value from student t-dist with dof  9999  and alpha  0.05  is  1.9602012636213575\n",
        "\n",
        " Halfwidth =  0.0016919620107892594\n",
        "\n",
        " 95% CI of Integral is [ 0.9611657721209012 ,  0.9645496961424797 ]"
      ],
      "metadata": {
        "id": "jGk7cun6z6gi"
      }
    },
    {
      "cell_type": "code",
      "source": [
        "N=1000\n",
        "for M in [10,100,1000,10000]:\n",
        "  val=[]\n",
        "  for i in range(M):\n",
        "    eval_data1=[]\n",
        "    for j in range(N):\n",
        "      x=np.random.exponential(1)\n",
        "      eval_data1.append((1/(math.exp(-x)))*integral4(x))\n",
        "    val.append(np.mean(eval_data1))\n",
        "  print(\"\\n \\n when M=\",M)  \n",
        "  print(\"\\n integral mean=\",np.mean(val))\n",
        "  print(\"\\n standard deviation=\",np.std(val))\n",
        "  alpha=0.05 #since we want to construct 95% CI\n",
        "  dof = M -1\t# Degrees of freedom\n",
        "  t_value = stats.t.ppf((1-alpha/2),dof)\n",
        "  print(\"\\n t-value from student t-dist with dof \", M-1, \" and alpha \", alpha, \" is \", t_value)\n",
        "  t_hw = t_value*np.std(val)/math.sqrt(M)\t\t#Halfwidth\n",
        "  print(\"\\n Halfwidth = \",t_hw)\n",
        "  print(\"\\n 95% CI of Integral is [\", np.mean(val) - t_hw, \", \",np.mean(val) + t_hw, \"]\" )\n"
      ],
      "metadata": {
        "colab": {
          "base_uri": "https://localhost:8080/"
        },
        "id": "jabk8FsC6MZr",
        "outputId": "a7bfdd2e-0b68-4bf0-f1a8-946a952aee65"
      },
      "execution_count": null,
      "outputs": [
        {
          "output_type": "stream",
          "name": "stdout",
          "text": [
            "\n",
            " \n",
            " when M= 10\n",
            "\n",
            " integral mean= 0.9556795988249185\n",
            "\n",
            " standard deviation= 0.015714653893423965\n",
            "\n",
            " t-value from student t-dist with dof  9  and alpha  0.05  is  2.2621571627409915\n",
            "\n",
            " Halfwidth =  0.01124158618731531\n",
            "\n",
            " 95% CI of Integral is [ 0.9444380126376032 ,  0.9669211850122338 ]\n",
            "\n",
            " \n",
            " when M= 100\n",
            "\n",
            " integral mean= 0.9600077837784198\n",
            "\n",
            " standard deviation= 0.02341493560107212\n",
            "\n",
            " t-value from student t-dist with dof  99  and alpha  0.05  is  1.9842169515086827\n",
            "\n",
            " Halfwidth =  0.004646031213813144\n",
            "\n",
            " 95% CI of Integral is [ 0.9553617525646066 ,  0.9646538149922329 ]\n",
            "\n",
            " \n",
            " when M= 1000\n",
            "\n",
            " integral mean= 0.9616198677205452\n",
            "\n",
            " standard deviation= 0.027330698776548083\n",
            "\n",
            " t-value from student t-dist with dof  999  and alpha  0.05  is  1.9623414611334487\n",
            "\n",
            " Halfwidth =  0.0016959979209451776\n",
            "\n",
            " 95% CI of Integral is [ 0.9599238697996 ,  0.9633158656414904 ]\n",
            "\n",
            " \n",
            " when M= 10000\n",
            "\n",
            " integral mean= 0.9618736912478049\n",
            "\n",
            " standard deviation= 0.027454468087297536\n",
            "\n",
            " t-value from student t-dist with dof  9999  and alpha  0.05  is  1.9602012636213575\n",
            "\n",
            " Halfwidth =  0.0005381628303677286\n",
            "\n",
            " 95% CI of Integral is [ 0.9613355284174371 ,  0.9624118540781726 ]\n"
          ]
        }
      ]
    },
    {
      "cell_type": "markdown",
      "source": [
        "when N=1000\n",
        " \n",
        " when M= 10\n",
        "\n",
        " integral mean= 0.9556795988249185\n",
        "\n",
        " standard deviation= 0.015714653893423965\n",
        "\n",
        " t-value from student t-dist with dof  9  and alpha  0.05  is  2.2621571627409915\n",
        "\n",
        " Halfwidth =  0.01124158618731531\n",
        "\n",
        " 95% CI of Integral is [ 0.9444380126376032 ,  0.9669211850122338 ]\n",
        "\n",
        " \n",
        " when M= 100\n",
        "\n",
        " integral mean= 0.9600077837784198\n",
        "\n",
        " standard deviation= 0.02341493560107212\n",
        "\n",
        " t-value from student t-dist with dof  99  and alpha  0.05  is  1.9842169515086827\n",
        "\n",
        " Halfwidth =  0.004646031213813144\n",
        "\n",
        " 95% CI of Integral is [ 0.9553617525646066 ,  0.9646538149922329 ]\n",
        "\n",
        " \n",
        " when M= 1000\n",
        "\n",
        " integral mean= 0.9616198677205452\n",
        "\n",
        " standard deviation= 0.027330698776548083\n",
        "\n",
        " t-value from student t-dist with dof  999  and alpha  0.05  is  1.9623414611334487\n",
        "\n",
        " Halfwidth =  0.0016959979209451776\n",
        "\n",
        " 95% CI of Integral is [ 0.9599238697996 ,  0.9633158656414904 ]\n",
        "\n",
        " \n",
        " when M= 10000\n",
        "\n",
        " integral mean= 0.9618736912478049\n",
        "\n",
        " standard deviation= 0.027454468087297536\n",
        "\n",
        " t-value from student t-dist with dof  9999  and alpha  0.05  is  1.9602012636213575\n",
        "\n",
        " Halfwidth =  0.0005381628303677286\n",
        "\n",
        " 95% CI of Integral is [ 0.9613355284174371 ,  0.9624118540781726 ]\n",
        "\n",
        " as we increase N we get more data point that increase accuracy of integral as we can see from above it's completely depend on how much data point is nearer to our known solution if we take less sample then also possibility of getting known result if random data point is nearer to our known solution but chance is less compare to when we take large no of data point"
      ],
      "metadata": {
        "id": "lIwHIeSV2Zaq"
      }
    },
    {
      "cell_type": "code",
      "source": [
        "N=100\n",
        "for M in [10,100,1000]:\n",
        "  val=[]\n",
        "  for i in range(M):\n",
        "    eval_data1=[]\n",
        "    for j in range(N):\n",
        "      x=np.random.gamma(2,1/1)\n",
        "      eval_data1.append((1/(stats.erlang.pdf(x,2)))*integral4(x))\n",
        "    val.append(np.mean(eval_data1))\n",
        "  print(\"\\n \\n when M=\",M)  \n",
        "  print(\"\\n integral mean=\",np.mean(val))\n",
        "  print(\"\\n standard deviation=\",np.std(val))\n",
        "  alpha=0.05 #since we want to construct 95% CI\n",
        "  dof = M -1\t# Degrees of freedom\n",
        "  t_value = stats.t.ppf((1-alpha/2),dof)\n",
        "  print(\"\\n t-value from student t-dist with dof \", M-1, \" and alpha \", alpha, \" is \", t_value)\n",
        "  t_hw = t_value*np.std(val)/math.sqrt(M)\t\t#Halfwidth\n",
        "  print(\"\\n Halfwidth = \",t_hw)\n",
        "  print(\"\\n 95% CI of Integral is [\", np.mean(val) - t_hw, \", \",np.mean(val) + t_hw, \"]\" )\n"
      ],
      "metadata": {
        "id": "GWHcUpx1DJxF",
        "colab": {
          "base_uri": "https://localhost:8080/"
        },
        "outputId": "dcd9a5fc-201a-4f20-8ff5-26edfd8236fd"
      },
      "execution_count": null,
      "outputs": [
        {
          "output_type": "stream",
          "name": "stdout",
          "text": [
            "\n",
            " \n",
            " when M= 10\n",
            "\n",
            " integral mean= 0.9601388044932492\n",
            "\n",
            " standard deviation= 0.0075955916651132115\n",
            "\n",
            " t-value from student t-dist with dof  9  and alpha  0.05  is  2.2621571627409915\n",
            "\n",
            " Halfwidth =  0.005433558952434533\n",
            "\n",
            " 95% CI of Integral is [ 0.9547052455408146 ,  0.9655723634456838 ]\n",
            "\n",
            " \n",
            " when M= 100\n",
            "\n",
            " integral mean= 0.9604799478839098\n",
            "\n",
            " standard deviation= 0.008339859861763284\n",
            "\n",
            " t-value from student t-dist with dof  99  and alpha  0.05  is  1.9842169515086827\n",
            "\n",
            " Halfwidth =  0.0016548091310917567\n",
            "\n",
            " 95% CI of Integral is [ 0.958825138752818 ,  0.9621347570150015 ]\n",
            "\n",
            " \n",
            " when M= 1000\n",
            "\n",
            " integral mean= 0.96177162472936\n",
            "\n",
            " standard deviation= 0.00796528960532783\n",
            "\n",
            " t-value from student t-dist with dof  999  and alpha  0.05  is  1.9623414611334487\n",
            "\n",
            " Halfwidth =  0.0004942835425032796\n",
            "\n",
            " 95% CI of Integral is [ 0.9612773411868567 ,  0.9622659082718632 ]\n"
          ]
        }
      ]
    },
    {
      "cell_type": "markdown",
      "source": [
        "when N=100\n",
        " \n",
        " when M= 10\n",
        "\n",
        " integral mean= 0.9601388044932492\n",
        "\n",
        " standard deviation= 0.0075955916651132115\n",
        "\n",
        " t-value from student t-dist with dof  9  and alpha  0.05  is  2.2621571627409915\n",
        "\n",
        " Halfwidth =  0.005433558952434533\n",
        "\n",
        " 95% CI of Integral is [ 0.9547052455408146 ,  0.9655723634456838 ]\n",
        "\n",
        " \n",
        " when M= 100\n",
        "\n",
        " integral mean= 0.9604799478839098\n",
        "\n",
        " standard deviation= 0.008339859861763284\n",
        "\n",
        " t-value from student t-dist with dof  99  and alpha  0.05  is  1.9842169515086827\n",
        "\n",
        " Halfwidth =  0.0016548091310917567\n",
        "\n",
        " 95% CI of Integral is [ 0.958825138752818 ,  0.9621347570150015 ]\n",
        "\n",
        " \n",
        " when M= 1000\n",
        "\n",
        " integral mean= 0.96177162472936\n",
        "\n",
        " standard deviation= 0.00796528960532783\n",
        "\n",
        " t-value from student t-dist with dof  999  and alpha  0.05  is  1.9623414611334487\n",
        "\n",
        " Halfwidth =  0.0004942835425032796\n",
        "\n",
        " 95% CI of Integral is [ 0.9612773411868567 ,  0.9622659082718632 ]"
      ],
      "metadata": {
        "id": "IvcExKIz2l6u"
      }
    },
    {
      "cell_type": "code",
      "source": [
        "N=1000\n",
        "for M in [10,100,1000]:\n",
        "  val=[]\n",
        "  for i in range(M):\n",
        "    eval_data1=[]\n",
        "    for j in range(N):\n",
        "      x=np.random.gamma(2,1/1)\n",
        "      eval_data1.append((1/((stats.erlang.pdf(x,2))))*integral4(x))\n",
        "    val.append(np.mean(eval_data1))\n",
        "  print(\"\\n \\n when M=\",M)  \n",
        "  print(\"\\n integral mean=\",np.mean(val))\n",
        "  print(\"\\n standard deviation=\",np.std(val))\n",
        "  alpha=0.05 #since we want to construct 95% CI\n",
        "  dof = M -1\t# Degrees of freedom\n",
        "  t_value = stats.t.ppf((1-alpha/2),dof)\n",
        "  print(\"\\n t-value from student t-dist with dof \", M-1, \" and alpha \", alpha, \" is \", t_value)\n",
        "  t_hw = t_value*np.std(val)/math.sqrt(M)\t\t#Halfwidth\n",
        "  print(\"\\n Halfwidth = \",t_hw)\n",
        "  print(\"\\n 95% CI of Integral is [\", np.mean(val) - t_hw, \", \",np.mean(val) + t_hw, \"]\" )\n"
      ],
      "metadata": {
        "colab": {
          "base_uri": "https://localhost:8080/"
        },
        "id": "bN6s5WYz9a4z",
        "outputId": "e2fce459-153c-433d-8528-c8be23d4e26d"
      },
      "execution_count": null,
      "outputs": [
        {
          "output_type": "stream",
          "name": "stdout",
          "text": [
            "\n",
            " \n",
            " when M= 10\n",
            "\n",
            " integral mean= 0.9619537721696126\n",
            "\n",
            " standard deviation= 0.0021163815438699288\n",
            "\n",
            " t-value from student t-dist with dof  9  and alpha  0.05  is  2.2621571627409915\n",
            "\n",
            " Halfwidth =  0.0015139681530379203\n",
            "\n",
            " 95% CI of Integral is [ 0.9604398040165747 ,  0.9634677403226506 ]\n",
            "\n",
            " \n",
            " when M= 100\n",
            "\n",
            " integral mean= 0.9619560002478904\n",
            "\n",
            " standard deviation= 0.0025602560224060257\n",
            "\n",
            " t-value from student t-dist with dof  99  and alpha  0.05  is  1.9842169515086827\n",
            "\n",
            " Halfwidth =  0.000508010339986023\n",
            "\n",
            " 95% CI of Integral is [ 0.9614479899079044 ,  0.9624640105878765 ]\n",
            "\n",
            " \n",
            " when M= 1000\n",
            "\n",
            " integral mean= 0.9618425793141374\n",
            "\n",
            " standard deviation= 0.002511489524877667\n",
            "\n",
            " t-value from student t-dist with dof  999  and alpha  0.05  is  1.9623414611334487\n",
            "\n",
            " Halfwidth =  0.0001558496929585675\n",
            "\n",
            " 95% CI of Integral is [ 0.9616867296211788 ,  0.961998429007096 ]\n"
          ]
        }
      ]
    },
    {
      "cell_type": "code",
      "source": [],
      "metadata": {
        "id": "UOGzMdJEEPe_"
      },
      "execution_count": null,
      "outputs": []
    },
    {
      "cell_type": "markdown",
      "source": [
        "N=1000\n",
        " \n",
        " when M= 10\n",
        "\n",
        " integral mean= 0.9619537721696126\n",
        "\n",
        " standard deviation= 0.0021163815438699288\n",
        "\n",
        " t-value from student t-dist with dof  9  and alpha  0.05  is  2.2621571627409915\n",
        "\n",
        " Halfwidth =  0.0015139681530379203\n",
        "\n",
        " 95% CI of Integral is [ 0.9604398040165747 ,  0.9634677403226506 ]\n",
        "\n",
        " \n",
        " when M= 100\n",
        "\n",
        " integral mean= 0.9619560002478904\n",
        "\n",
        " standard deviation= 0.0025602560224060257\n",
        "\n",
        " t-value from student t-dist with dof  99  and alpha  0.05  is  1.9842169515086827\n",
        "\n",
        " Halfwidth =  0.000508010339986023\n",
        "\n",
        " 95% CI of Integral is [ 0.9614479899079044 ,  0.9624640105878765 ]\n",
        "\n",
        " \n",
        " when M= 1000\n",
        "\n",
        " integral mean= 0.9618425793141374\n",
        "\n",
        " standard deviation= 0.002511489524877667\n",
        "\n",
        " t-value from student t-dist with dof  999  and alpha  0.05  is  1.9623414611334487\n",
        "\n",
        " Halfwidth =  0.0001558496929585675\n",
        "\n",
        " 95% CI of Integral is [ 0.9616867296211788 ,  0.961998429007096 ]\n",
        "\n",
        " as we increase N we get more data point that increase accuracy of integral as we can see from above it's completely depend on how much data point is nearer to our known solution if we take less sample then also possibility of getting known result if random data point is nearer to our known solution but chance is less compare to when we take large no of data point"
      ],
      "metadata": {
        "id": "dCiUzREdEQLn"
      }
    }
  ]
}